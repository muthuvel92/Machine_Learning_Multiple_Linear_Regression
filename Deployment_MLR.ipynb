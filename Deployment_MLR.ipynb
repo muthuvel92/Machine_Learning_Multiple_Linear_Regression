{
 "cells": [
  {
   "cell_type": "code",
   "execution_count": 2,
   "id": "6cfbf3f9-fbb3-4ebd-bef0-c5760f26c77b",
   "metadata": {},
   "outputs": [],
   "source": [
    "#To deploy we will import, please save all the files in same location to avoid error\n",
    "import pickle"
   ]
  },
  {
   "cell_type": "code",
   "execution_count": 6,
   "id": "09b9c1eb-0f6a-456a-b777-d5f3326c09cf",
   "metadata": {},
   "outputs": [
    {
     "name": "stderr",
     "output_type": "stream",
     "text": [
      "/home/muthuvel/anaconda3/lib/python3.12/site-packages/sklearn/base.py:493: UserWarning: X does not have valid feature names, but LinearRegression was fitted with feature names\n",
      "  warnings.warn(\n"
     ]
    }
   ],
   "source": [
    "loaded_model = pickle.load(open(\"final_model_multiple_linear.sav\",'rb'))\n",
    "result = loaded_model.predict([[45850,135500,28586,1,0]])"
   ]
  },
  {
   "cell_type": "code",
   "execution_count": 12,
   "id": "44c9b056-10a3-48cd-b51c-aac34a427e35",
   "metadata": {},
   "outputs": [
    {
     "data": {
      "text/plain": [
       "array([[191934.8683049]])"
      ]
     },
     "execution_count": 12,
     "metadata": {},
     "output_type": "execute_result"
    }
   ],
   "source": [
    "result"
   ]
  },
  {
   "cell_type": "code",
   "execution_count": 14,
   "id": "932fed0c-07f0-4e1a-b353-78265ded9e89",
   "metadata": {},
   "outputs": [
    {
     "name": "stderr",
     "output_type": "stream",
     "text": [
      "/home/muthuvel/anaconda3/lib/python3.12/site-packages/sklearn/base.py:493: UserWarning: X does not have valid feature names, but LinearRegression was fitted with feature names\n",
      "  warnings.warn(\n"
     ]
    }
   ],
   "source": [
    "loaded_model = pickle.load(open(\"final_model_multiple_linear.sav\",'rb'))\n",
    "result = loaded_model.predict([[165349.2,136897.8,471784.1,0,1]])"
   ]
  },
  {
   "cell_type": "code",
   "execution_count": 16,
   "id": "17cce345-4341-46ee-a78b-d4c9c44405a9",
   "metadata": {},
   "outputs": [
    {
     "data": {
      "text/plain": [
       "array([[192239.66787833]])"
      ]
     },
     "execution_count": 16,
     "metadata": {},
     "output_type": "execute_result"
    }
   ],
   "source": [
    "result"
   ]
  },
  {
   "cell_type": "code",
   "execution_count": null,
   "id": "ff1d6eae-ae8f-4743-9bcc-db540ea8a2f2",
   "metadata": {},
   "outputs": [],
   "source": []
  }
 ],
 "metadata": {
  "kernelspec": {
   "display_name": "Python 3 (ipykernel)",
   "language": "python",
   "name": "python3"
  },
  "language_info": {
   "codemirror_mode": {
    "name": "ipython",
    "version": 3
   },
   "file_extension": ".py",
   "mimetype": "text/x-python",
   "name": "python",
   "nbconvert_exporter": "python",
   "pygments_lexer": "ipython3",
   "version": "3.12.4"
  }
 },
 "nbformat": 4,
 "nbformat_minor": 5
}
